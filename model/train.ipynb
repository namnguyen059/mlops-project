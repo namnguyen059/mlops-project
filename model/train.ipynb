{
 "cells": [
  {
   "cell_type": "code",
   "execution_count": 11,
   "metadata": {},
   "outputs": [
    {
     "name": "stdout",
     "output_type": "stream",
     "text": [
      "   house_prices_features.feature1  house_prices_features.feature2  \\\n",
      "0                       37.454012                        9.256646   \n",
      "1                       95.071431                       27.095047   \n",
      "2                       73.199394                       43.647292   \n",
      "3                       59.865848                       36.611244   \n",
      "4                       15.601864                       40.328057   \n",
      "5                       15.599452                       32.939168   \n",
      "6                        5.808361                       34.613828   \n",
      "7                       86.617615                       42.459783   \n",
      "8                       60.111501                       12.483400   \n",
      "9                       70.807258                       24.471248   \n",
      "\n",
      "   house_prices_features.price  \n",
      "0                    78.460473  \n",
      "1                   143.457007  \n",
      "2                   171.629492  \n",
      "3                   156.829068  \n",
      "4                   147.592893  \n",
      "5                   115.646273  \n",
      "6                   137.058723  \n",
      "7                   175.517136  \n",
      "8                   104.808879  \n",
      "9                   126.874008  \n"
     ]
    }
   ],
   "source": [
    "from pyhive import hive\n",
    "import pandas as pd\n",
    "\n",
    "# Hive connection parameters\n",
    "host = 'localhost'  # Use 'hive-server' if running inside the Docker network\n",
    "port = 10000\n",
    "username = 'hive'\n",
    "database = 'default'\n",
    "\n",
    "# Connect to Hive\n",
    "conn = hive.Connection(host=host, port=port, username=username, database=database)\n",
    "cursor = conn.cursor()\n",
    "\n",
    "# Execute query\n",
    "query = \"SELECT * FROM house_prices_features LIMIT 10\"\n",
    "cursor.execute(query)\n",
    "\n",
    "# Fetch data\n",
    "data = cursor.fetchall()\n",
    "\n",
    "# Create DataFrame\n",
    "df = pd.DataFrame(data, columns=[desc[0] for desc in cursor.description])\n",
    "\n",
    "# Print DataFrame\n",
    "print(df)\n",
    "\n",
    "# Close connection\n",
    "cursor.close()\n",
    "conn.close()\n"
   ]
  },
  {
   "cell_type": "code",
   "execution_count": 10,
   "metadata": {},
   "outputs": [
    {
     "name": "stdout",
     "output_type": "stream",
     "text": [
      "      feature1   feature2       price\n",
      "0    86.518078  28.634286  136.482128\n",
      "1    78.990617  28.105430  160.927962\n",
      "2    76.292648  16.219269  121.092708\n",
      "3    47.247751  26.818132  131.587598\n",
      "4    48.707775   9.037970  100.233477\n",
      "..         ...        ...         ...\n",
      "995  75.963281  29.110411  151.149320\n",
      "996  91.773698  33.694689  177.607773\n",
      "997  66.562386  45.324230  164.815187\n",
      "998  84.371316  15.025427  120.752766\n",
      "999  27.326413  48.868200  155.991318\n",
      "\n",
      "[1000 rows x 3 columns]\n"
     ]
    }
   ],
   "source": [
    "from cassandra.cluster import Cluster\n",
    "from cassandra.auth import PlainTextAuthProvider\n",
    "import pandas as pd\n",
    "\n",
    "# Cassandra connection parameters\n",
    "cassandra_host = 'localhost'  # Use 'cassandra' if running inside the Docker network\n",
    "cassandra_port = 9042\n",
    "cassandra_username = 'cassandra'\n",
    "cassandra_password = 'cassandra'\n",
    "keyspace = 'house_prices'\n",
    "table = 'feature_store'\n",
    "\n",
    "# Connect to Cassandra\n",
    "auth_provider = PlainTextAuthProvider(username=cassandra_username, password=cassandra_password)\n",
    "cluster = Cluster([cassandra_host], port=cassandra_port, auth_provider=auth_provider)\n",
    "session = cluster.connect(keyspace)\n",
    "\n",
    "# Execute query\n",
    "query = f\"SELECT * FROM {table}\"\n",
    "rows = session.execute(query)\n",
    "\n",
    "# Fetch data\n",
    "data = [row for row in rows]\n",
    "\n",
    "# Create DataFrame\n",
    "df = pd.DataFrame(data)\n",
    "\n",
    "# Print DataFrame\n",
    "print(df)\n",
    "\n",
    "# Close connection\n",
    "cluster.shutdown()\n"
   ]
  },
  {
   "cell_type": "code",
   "execution_count": null,
   "metadata": {},
   "outputs": [],
   "source": []
  }
 ],
 "metadata": {
  "kernelspec": {
   "display_name": "sk",
   "language": "python",
   "name": "python3"
  },
  "language_info": {
   "codemirror_mode": {
    "name": "ipython",
    "version": 3
   },
   "file_extension": ".py",
   "mimetype": "text/x-python",
   "name": "python",
   "nbconvert_exporter": "python",
   "pygments_lexer": "ipython3",
   "version": "3.12.2"
  }
 },
 "nbformat": 4,
 "nbformat_minor": 2
}
